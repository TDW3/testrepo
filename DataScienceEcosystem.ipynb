{
 "cells": [
  {
   "cell_type": "markdown",
   "id": "1a497cc2-6830-46b6-b53a-1cefff100e68",
   "metadata": {},
   "source": [
    "# Data Science Tools and Ecosystem"
   ]
  },
  {
   "cell_type": "markdown",
   "id": "113ef2b7-254c-4d49-8e3d-941dacec60fa",
   "metadata": {},
   "source": [
    "In this notebook, Data Science Tools and Ecosystem are summarized"
   ]
  },
  {
   "cell_type": "markdown",
   "id": "b22bb659-3c91-4fb3-a3ab-f43f6fcd469b",
   "metadata": {},
   "source": [
    "Some of the popular languages that Data Scientists use are:"
   ]
  },
  {
   "cell_type": "markdown",
   "id": "91c65d50-1f59-4652-8b26-49de3d56c833",
   "metadata": {},
   "source": [
    "1.Python\n",
    "2.R\n",
    "3.C++"
   ]
  },
  {
   "cell_type": "markdown",
   "id": "9533ceb9-62d1-40b1-a898-507448ef6edb",
   "metadata": {},
   "source": [
    "Some of the popular languages that Data Scientists use are:"
   ]
  },
  {
   "cell_type": "markdown",
   "id": "eb64ae94-da3c-4e82-b855-c26cd4e8ba92",
   "metadata": {},
   "source": [
    "1.Python\n",
    "2.R\n",
    "3.C++"
   ]
  },
  {
   "cell_type": "markdown",
   "id": "bb2d18fe-733d-4d24-ad4c-6276557d1c7b",
   "metadata": {},
   "source": [
    "|Data Science Tools|\n",
    "|------------------|\n",
    "|Apache Spark|\n",
    "|Git|\n",
    "|Visual Studio|\n",
    "\n"
   ]
  },
  {
   "cell_type": "markdown",
   "id": "e78ed1ca-6d8f-4861-9b84-0470d7c8cbbd",
   "metadata": {},
   "source": [
    "### Below are a few examples of evaluating arithmetic expressions in Python."
   ]
  },
  {
   "cell_type": "code",
   "execution_count": 5,
   "id": "6da48621-7499-41f2-9176-ce0f66de74cc",
   "metadata": {},
   "outputs": [
    {
     "data": {
      "text/plain": [
       "17"
      ]
     },
     "execution_count": 5,
     "metadata": {},
     "output_type": "execute_result"
    }
   ],
   "source": [
    "(3*4)+5 #This a simple arithmetic expression to mutiply then add integers"
   ]
  },
  {
   "cell_type": "code",
   "execution_count": 7,
   "id": "e91b3140-6067-4579-be1b-6b364ed85d09",
   "metadata": {},
   "outputs": [
    {
     "data": {
      "text/plain": [
       "3.3333333333333335"
      ]
     },
     "execution_count": 7,
     "metadata": {},
     "output_type": "execute_result"
    }
   ],
   "source": [
    "200/60 #This will convert 200 minutes to hours by diving by 60"
   ]
  },
  {
   "cell_type": "markdown",
   "id": "f03b96fa-c6f1-4056-85fe-ae2cdc55d6a8",
   "metadata": {},
   "source": [
    "**Objectives:**"
   ]
  },
  {
   "cell_type": "markdown",
   "id": "dc03ed77-4593-4325-91e4-5e115d40fca3",
   "metadata": {},
   "source": [
    "1.List popular languages for Data Science\n",
    "2.Learn to use Rstuio\n",
    "3.Learn to use Python\n",
    "4.Learn to use Anaconda\n",
    "5.Learn to use Github"
   ]
  },
  {
   "cell_type": "markdown",
   "id": "53a05f2b-08db-47c2-be90-1539a7b1d0d0",
   "metadata": {},
   "source": [
    "## Author\n",
    "Gwen HY"
   ]
  }
 ],
 "metadata": {
  "kernelspec": {
   "display_name": "Python [conda env:base] *",
   "language": "python",
   "name": "conda-base-py"
  },
  "language_info": {
   "codemirror_mode": {
    "name": "ipython",
    "version": 3
   },
   "file_extension": ".py",
   "mimetype": "text/x-python",
   "name": "python",
   "nbconvert_exporter": "python",
   "pygments_lexer": "ipython3",
   "version": "3.12.7"
  }
 },
 "nbformat": 4,
 "nbformat_minor": 5
}
